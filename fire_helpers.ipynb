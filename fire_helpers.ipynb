{
 "cells": [
  {
   "cell_type": "code",
   "execution_count": 162,
   "metadata": {},
   "outputs": [],
   "source": [
    "# ECE 180 python project\n",
    "\n",
    "# Global imports\n",
    "import urllib2\n",
    "from StringIO import StringIO\n",
    "import gzip\n",
    "import sys\n",
    "import os\n",
    "import numpy as np\n",
    "import pandas as pd\n",
    "import gmaps\n",
    "import matplotlib.pyplot as plt\n",
    "import seaborn\n",
    "import itertools\n",
    "import csv\n",
    "\n",
    "%matplotlib inline"
   ]
  },
  {
   "cell_type": "code",
   "execution_count": 215,
   "metadata": {
    "collapsed": true
   },
   "outputs": [],
   "source": [
    "# Use this to set the env api key\n",
    "# os.environ['GOOGLE_API_KEY']= API_KEY_YOU_GET_FROM_GOOGLE_AUTH"
   ]
  },
  {
   "cell_type": "code",
   "execution_count": 213,
   "metadata": {
    "collapsed": true
   },
   "outputs": [],
   "source": [
    "data_path = './data/'\n",
    "gmaps.configure(api_key=os.getenv('GOOGLE_API_KEY'))"
   ]
  },
  {
   "cell_type": "code",
   "execution_count": 4,
   "metadata": {
    "collapsed": true
   },
   "outputs": [],
   "source": [
    "def populate_M_FIRE(yy1,mm1,yy2=2017,mm2=11):\n",
    "    '''\n",
    "    This function downloads and unzips monthly Active Fires CSV files from NEO global datasets in\n",
    "    ftp://neoftp.sci.gsfc.nasa.gov/csv/MOD14A1_M_FIRE/ for a given time interval.\n",
    "    If only one month-year is given, it downloads data from that month to 11-2017 (Latest available data)\n",
    "\n",
    "    :param yy1: int, start year\n",
    "    :param mm1: int, start month\n",
    "    :param yy2: int, end year\n",
    "    :param mm2: int, end month\n",
    "    For example:\n",
    "    yy1 = 2000\n",
    "    mm1 = 4\n",
    "    yy2 = 2000\n",
    "    mm2 = 6\n",
    "    populate_M_FIRE(yy1,mm1,yy2,mm2)\n",
    "    '''\n",
    "    assert isinstance(yy1, int) and isinstance(mm1, int)\n",
    "    assert isinstance(yy2, int) and isinstance(mm2, int)\n",
    "    assert (1 <= mm1 <= 12) and (yy1 >= 2000)\n",
    "    assert (1 <= mm2 <= 12) and (yy2 >= 2000)\n",
    "\n",
    "    # Local output directory\n",
    "    baseURL = 'ftp://neoftp.sci.gsfc.nasa.gov/csv/MOD14A1_M_FIRE/'\n",
    "\n",
    "    mm = mm1\n",
    "    yy = yy1\n",
    "    while yy < yy2 or mm < mm2:\n",
    "        if mm >= 10:\n",
    "            fdate = '{}-{}'.format(yy, mm)\n",
    "        else:\n",
    "            fdate = '{}-0{}'.format(yy, mm)\n",
    "        if mm % 12 == 0:\n",
    "            yy = yy + 1\n",
    "        mm = mm % 12 + 1\n",
    "\n",
    "        filename = 'MOD14A1_M_FIRE_' + fdate + '.CSV.gz'\n",
    "        outFilePath = data_path + 'MOD14A1_M_FIRE_' + fdate + '.csv'\n",
    "\n",
    "        response = urllib2.urlopen(baseURL + filename)\n",
    "        compressedFile = StringIO()\n",
    "        compressedFile.write(response.read())\n",
    "\n",
    "        # Set the file's current position to the beginning of the file\n",
    "        # so that gzip.GzipFile can read its contents from the top.\n",
    "        compressedFile.seek(0)\n",
    "        decompressedFile = gzip.GzipFile(fileobj=compressedFile, mode='rb')\n",
    "\n",
    "        if not os.path.exists(data_path):\n",
    "            os.makedirs(data_path)\n",
    "        with open(outFilePath, 'w') as outfile:\n",
    "            outfile.write(decompressedFile.read())"
   ]
  },
  {
   "cell_type": "code",
   "execution_count": 5,
   "metadata": {
    "collapsed": true
   },
   "outputs": [],
   "source": [
    "def create_global_grid_csv():\n",
    "    '''\n",
    "    divides the global degrees (360x180) by the dimensions of the monthly Active Fires CSV files (3600x1800 pixels)\n",
    "    to determine the geolocation of each element (pixel)\n",
    "    :return:\n",
    "    '''\n",
    "    N_pixels_lon = 3600\n",
    "    N_pixels_lat = 1800\n",
    "    delta_lon = 360./N_pixels_lon\n",
    "    delta_lat = 180./N_pixels_lat\n",
    "    # create longitude vector\n",
    "    lon_vec = []\n",
    "    lon_vec.append(-180)\n",
    "    for ii in range(N_pixels_lon-1):\n",
    "        lon_vec.append(lon_vec[ii]+delta_lon)\n",
    "    # create latitude vector\n",
    "    lat_vec = []\n",
    "    lat_vec.append(90)\n",
    "    for ii in range(N_pixels_lat-1):\n",
    "        lat_vec.append(lat_vec[ii] - delta_lat)\n",
    "\n",
    "    return lat_vec, lon_vec"
   ]
  },
  {
   "cell_type": "code",
   "execution_count": 225,
   "metadata": {
    "collapsed": true
   },
   "outputs": [],
   "source": [
    "def files_to_dfs():    \n",
    "    '''\n",
    "    Reads all the csv files from the /data folder and returns a dictionary of the pandas dataframes for each month\n",
    "    '''\n",
    "    pds = {}\n",
    "    for dirpath, dnames, fnames in os.walk(\"./data/\"):\n",
    "        for f in fnames:\n",
    "            if f.endswith(\".csv\"):\n",
    "                pds[f] = csv_to_df(os.path.join(dirpath, f))\n",
    "    return pds\n",
    "\n",
    "def csv_to_df(filename, lat1=90.0, lon1=-180.0, lat2=-90.0, lon2=180.0):\n",
    "    '''\n",
    "    Reads a csv file, converts it to a dataframe of lat-lon-mag columns, filters a particular location coordinate\n",
    "    and returns the dataframe\n",
    "    @param filename : string, represents filename\n",
    "    @param lat1,lat2,lon1,lon2 : float, latitudes and longitudes\n",
    "    dataframe for points between (lat1,lon1) and (lat2,lon2) are returned\n",
    "    '''\n",
    "    with open(filename,'r') as f:\n",
    "        reader=csv.reader(f)\n",
    "        lis=[]\n",
    "        for row in reader:\n",
    "            lis.extend(map(float,row))\n",
    "            \n",
    "    lat,lon = create_global_grid_csv()\n",
    "    latlons = [i for i in itertools.product(lat,lon)]\n",
    "    \n",
    "    # 0.1 - represents land, 99999.0 - represents water\n",
    "    df = pd.DataFrame([x + (y,) for x, y in zip(latlons,lis) if y not in [0.1,99999.0]],columns=('lat','lon','mag'))\n",
    "    \n",
    "    df = df[(df.lat < lat1) & (df.lat > lat2)]\n",
    "    df = df[(df.lon > lon1) & (df.lon < lon2)]\n",
    "    \n",
    "    return df\n",
    "\n",
    "def df_to_heatmap(df):\n",
    "    locations = df[['lat','lon']]\n",
    "    weights = df['mag']\n",
    "    fig = gmaps.figure()\n",
    "    fig.add_layer(gmaps.heatmap_layer(locations, weights=weights))\n",
    "    \n",
    "    return fig"
   ]
  },
  {
   "cell_type": "code",
   "execution_count": 226,
   "metadata": {},
   "outputs": [
    {
     "data": {
      "application/vnd.jupyter.widget-view+json": {
       "model_id": "c4e4953917504b6bbc564caa93c512ca",
       "version_major": 2,
       "version_minor": 0
      },
      "text/plain": [
       "A Jupyter Widget"
      ]
     },
     "metadata": {},
     "output_type": "display_data"
    }
   ],
   "source": [
    "df = csv_to_df('data/MOD14A1_M_FIRE_2017-01.csv')\n",
    "df_to_heatmap(df)"
   ]
  },
  {
   "cell_type": "code",
   "execution_count": null,
   "metadata": {
    "collapsed": true
   },
   "outputs": [],
   "source": []
  }
 ],
 "metadata": {
  "kernelspec": {
   "display_name": "Python 2",
   "language": "python",
   "name": "python2"
  },
  "language_info": {
   "codemirror_mode": {
    "name": "ipython",
    "version": 2
   },
   "file_extension": ".py",
   "mimetype": "text/x-python",
   "name": "python",
   "nbconvert_exporter": "python",
   "pygments_lexer": "ipython2",
   "version": "2.7.14"
  }
 },
 "nbformat": 4,
 "nbformat_minor": 2
}
