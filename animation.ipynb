{
 "cells": [
  {
   "cell_type": "code",
   "execution_count": 56,
   "metadata": {},
   "outputs": [],
   "source": [
    "import sys\n",
    "import os\n",
    "import numpy as np\n",
    "import pandas as pd\n",
    "import gmaps\n",
    "import seaborn as sns\n",
    "import matplotlib.pyplot as plt\n",
    "from matplotlib.pylab import subplots\n",
    "from Fire_helpers import csv_to_df, df_to_heatmap\n",
    "from settings_ECE180 import GOOGLE_API_KEY, data_path\n",
    "%matplotlib inline"
   ]
  },
  {
   "cell_type": "code",
   "execution_count": 57,
   "metadata": {},
   "outputs": [
    {
     "name": "stdout",
     "output_type": "stream",
     "text": [
      "FIRE-2000.csv: Done!\n",
      "FIRE-2001.csv: Done!\n",
      "FIRE-2002.csv: Done!\n",
      "FIRE-2003.csv: Done!\n",
      "FIRE-2004.csv: Done!\n",
      "FIRE-2005.csv: Done!\n",
      "FIRE-2006.csv: Done!\n",
      "FIRE-2007.csv: Done!\n",
      "FIRE-2008.csv: Done!\n",
      "FIRE-2009.csv: Done!\n",
      "FIRE-2010.csv: Done!\n",
      "FIRE-2011.csv: Done!\n",
      "FIRE-2012.csv: Done!\n",
      "FIRE-2013.csv: Done!\n",
      "FIRE-2014.csv: Done!\n",
      "FIRE-2015.csv: Done!\n",
      "FIRE-2016.csv: Done!\n",
      "FIRE-2017.csv: Done!\n"
     ]
    }
   ],
   "source": [
    "# create dataframe and save output for each year with mean values\n",
    "slice_data_dir = 'MM_CA_keep_landocean'\n",
    "outdir = 'year_avg'\n",
    "\n",
    "for i in range(0,18):\n",
    "    if i >= 10:\n",
    "        y = '20{}'.format(i)\n",
    "    else:\n",
    "        y = '200{}'.format(i)\n",
    "    \n",
    "    outf = 'FIRE-'+y+'.csv'\n",
    "\n",
    "    n=0\n",
    "    for dirpath, dnames, fnames in os.walk(os.path.join(data_path,slice_data_dir)):\n",
    "        for f in fnames:\n",
    "            if f.startswith(\"FIRE_\"+y):\n",
    "                if n<1:\n",
    "                    df1 = pd.read_csv(os.path.join('.','data',slice_data_dir,f))\n",
    "                    n+=1\n",
    "                else:\n",
    "                    df = pd.read_csv(os.path.join('.','data',slice_data_dir,f))\n",
    "                    df1 = df1.append(df)\n",
    "\n",
    "    # get rid of land mask (replace 0.1 with 0, because 0.1 represents land values)\n",
    "    df1['mag'].replace(0.1,0, inplace=True)\n",
    "\n",
    "    # Calculate mean values\n",
    "    # Create a groupby variable that groups mag by lat and lon\n",
    "    df2 = df1.groupby(['lat', 'lon']).mean()\n",
    "    lon1 = df1['lon'].values\n",
    "    lat1 = df1['lat'].values\n",
    "\n",
    "    lon_avg = np.sort(list(set(lon1)))\n",
    "    lat_avg = np.sort(list(set(lat1)))\n",
    "    mag_avg = df2['mag'].values\n",
    "\n",
    "    # create dataframe and save\n",
    "    y_df = pd.DataFrame({'lat':list(reversed(df['lat'].values)),'lon':df['lon'].values,'mag':mag_avg})\n",
    "    # y_df = MM_df.set_index('lat')\n",
    "    # y_df.sort_index(inplace=True)\n",
    "    y_df.to_csv\n",
    "    y_df.to_csv(os.path.join(data_path,outdir,outf))\n",
    "    print outf + ': Done!'"
   ]
  },
  {
   "cell_type": "code",
   "execution_count": 189,
   "metadata": {},
   "outputs": [
    {
     "data": {
      "text/plain": [
       "\"\\nfig = plt.figure()\\n\\nim = []\\ny = ['2000','2001','2002','2003','2004','2005','2006','2007','2008','2009','2010','2011','2012','2013','2014','2015','2016','2017']           \\nfor i in range(0,18):                \\n    outf = 'FIRE-'+y[i]+'.csv'\\n    y_df = pd.read_csv(os.path.join('.','data','year_avg',outf))\\n    lon_mag = y_df['lon'].values\\n    lat_mag = y_df['lat'].values\\n    mag = y_df['mag'].values\\n    if i>=15 and i=8 and i=6:\\n        y_df['mag'].replace(99999,-2, inplace=True)\\n    elif i=10:\\n        y_df['mag'].replace(99999,-0.8, inplace=True)\\n    else\\n        y_df['mag'].replace(99999,-1, inplace=True)\\n    loncf = np.sort(list(set(lon_mag)))\\n    latcf = np.sort(list(set(lat_mag)))\\n    magcf = np.reshape(mag, (len(latcf),len(loncf)))\\n    heatmap = plt.imshow(np.array(np.reshape(mag, (len(latcf),len(loncf)))), origin='lower', cmap='Paired', interpolation='nearest', animated=True)\\n    plt.xticks([])\\n    plt.yticks([])\\n    im.append([heatmap])\\n\\nani = animation.ArtistAnimation(fig, im, interval=50, blit=True, repeat_delay=1)\\n\\nplt.show()\\n\""
      ]
     },
     "execution_count": 189,
     "metadata": {},
     "output_type": "execute_result"
    },
    {
     "data": {
      "image/png": "[encoded data removed]",
      "text/plain": [
       "<matplotlib.figure.Figure at 0x1a150e9bd0>"
      ]
     },
     "metadata": {},
     "output_type": "display_data"
    }
   ],
   "source": [
    "import matplotlib.animation as animation\n",
    "\n",
    "outdir = 'year_avg'\n",
    "y = \"2000\"\n",
    "outf = 'FIRE-'+y+'.csv'\n",
    "y_df = pd.read_csv(os.path.join('.','data',outdir,outf))\n",
    "\n",
    "lon_mag = y_df['lon'].values\n",
    "lat_mag = y_df['lat'].values\n",
    "mag = y_df['mag'].values\n",
    "\n",
    "y_df['mag'].replace(99999,-1,inplace=True)\n",
    "\n",
    "\n",
    "loncf = np.sort(list(set(lon_mag)))\n",
    "latcf = np.sort(list(set(lat_mag)))\n",
    "magcf = np.reshape(mag, (len(latcf),len(loncf)))\n",
    "\n",
    "heatmap = plt.imshow(np.array(np.reshape(mag, (len(latcf),len(loncf)))), origin='lower', cmap='Paired', interpolation='nearest',animated=True)\n",
    "\n",
    "plt.xticks([])\n",
    "plt.yticks([])\n",
    "\n",
    "colorbar=plt.colorbar(heatmap)\n",
    "\n",
    "fig = plt.figure()\n",
    "\n",
    "im = []\n",
    "y = ['2000','2001','2002','2003','2004','2005','2006','2007','2008','2009','2010','2011','2012','2013','2014','2015','2016','2017']           \n",
    "for i in range(0,18):                \n",
    "    outf = 'FIRE-'+y[i]+'.csv'\n",
    "    y_df = pd.read_csv(os.path.join('.','data','year_avg',outf))\n",
    "    lon_mag = y_df['lon'].values\n",
    "    lat_mag = y_df['lat'].values\n",
    "    mag = y_df['mag'].values\n",
    "    if i>=15 and i=8 and i=6:\n",
    "        y_df['mag'].replace(99999,-2, inplace=True)\n",
    "    elif i=10:\n",
    "        y_df['mag'].replace(99999,-0.8, inplace=True)\n",
    "    else\n",
    "        y_df['mag'].replace(99999,-1, inplace=True)\n",
    "    loncf = np.sort(list(set(lon_mag)))\n",
    "    latcf = np.sort(list(set(lat_mag)))\n",
    "    magcf = np.reshape(mag, (len(latcf),len(loncf)))\n",
    "    heatmap = plt.imshow(np.array(np.reshape(mag, (len(latcf),len(loncf)))), origin='lower', cmap='Paired', interpolation='nearest', animated=True)\n",
    "    plt.xticks([])\n",
    "    plt.yticks([])\n",
    "    im.append([heatmap])\n",
    "\n",
    "ani = animation.ArtistAnimation(fig, im, interval=50, blit=True, repeat_delay=1)\n",
    "ani.save('dynamic_images.mp4')\n",
    "plt.show()\n"
   ]
  },
  {
   "cell_type": "code",
   "execution_count": null,
   "metadata": {},
   "outputs": [],
   "source": []
  }
 ],
 "metadata": {
  "kernelspec": {
   "display_name": "Python 2",
   "language": "python",
   "name": "python2"
  },
  "language_info": {
   "codemirror_mode": {
    "name": "ipython",
    "version": 2
   },
   "file_extension": ".py",
   "mimetype": "text/x-python",
   "name": "python",
   "nbconvert_exporter": "python",
   "pygments_lexer": "ipython2",
   "version": "2.7.14"
  }
 },
 "nbformat": 4,
 "nbformat_minor": 2
}
